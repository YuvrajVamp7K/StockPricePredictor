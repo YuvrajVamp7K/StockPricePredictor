{
 "cells": [
  {
   "cell_type": "code",
   "execution_count": 2,
   "metadata": {},
   "outputs": [],
   "source": [
    "import joblib\n",
    "import pandas as pd\n",
    "predictor = joblib.load('stockpred.pkl')"
   ]
  },
  {
   "cell_type": "code",
   "execution_count": 6,
   "metadata": {},
   "outputs": [],
   "source": [
    "new_data = pd.DataFrame({\n",
    "    'Close': [25127.95],\n",
    "    'Volume': [206400],\n",
    "    'Open': [25023.45],\n",
    "    'High': [25159.75],\n",
    "    'Low': [25017.50]\n",
    "})\n",
    "\n",
    "predictions = predictor.predict(new_data)"
   ]
  },
  {
   "cell_type": "code",
   "execution_count": 12,
   "metadata": {},
   "outputs": [
    {
     "name": "stdout",
     "output_type": "stream",
     "text": [
      "Predictions for new data: [0]\n",
      "the stock price will Increase\n"
     ]
    }
   ],
   "source": [
    "def incdec():\n",
    "    \n",
    "    if predictions == 0:\n",
    "        return \"Decrease\"\n",
    "    else: \n",
    "        return \"Increase\"\n",
    "\n",
    "incdec()\n",
    "print(\"Predictions for new data:\", predictions)\n",
    "print(f\"the stock price will {incdec()} by {}\")"
   ]
  }
 ],
 "metadata": {
  "kernelspec": {
   "display_name": "Python 3",
   "language": "python",
   "name": "python3"
  },
  "language_info": {
   "codemirror_mode": {
    "name": "ipython",
    "version": 3
   },
   "file_extension": ".py",
   "mimetype": "text/x-python",
   "name": "python",
   "nbconvert_exporter": "python",
   "pygments_lexer": "ipython3",
   "version": "3.11.5"
  }
 },
 "nbformat": 4,
 "nbformat_minor": 2
}
