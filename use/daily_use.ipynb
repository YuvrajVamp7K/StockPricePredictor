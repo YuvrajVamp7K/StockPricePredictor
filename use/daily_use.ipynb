{
 "cells": [
  {
   "cell_type": "code",
   "execution_count": 1,
   "metadata": {},
   "outputs": [],
   "source": [
    "import joblib\n",
    "import pandas as pd\n",
    "\n",
    "# Replace the following path with the actual absolute path on your system\n",
    "predictor = joblib.load('D:\\coding\\python\\Projects\\Boards\\src\\stockpred.pkl')\n",
    "regressor = joblib.load('D:\\coding\\python\\Projects\\Boards\\src\\price_change_predictor.pkl')"
   ]
  },
  {
   "cell_type": "code",
   "execution_count": 2,
   "metadata": {},
   "outputs": [],
   "source": [
    "new_data = pd.DataFrame({\n",
    "    'Close': [0],\n",
    "    'Volume': [0], #shares traded by 1000\n",
    "    'Open': [0],\n",
    "    'High': [0],\n",
    "    'Low': [0]\n",
    "})\n",
    "\n",
    "predictions = predictor.predict(new_data)\n",
    "price_change = regressor.predict(new_data)"
   ]
  },
  {
   "cell_type": "code",
   "execution_count": 3,
   "metadata": {},
   "outputs": [
    {
     "name": "stdout",
     "output_type": "stream",
     "text": [
      "Predictions for new data: [1]\n",
      "the stock price will Increase by [19.52210496]\n"
     ]
    }
   ],
   "source": [
    "def incdec():\n",
    "    \n",
    "    if predictions == 0:\n",
    "        return \"Decrease\"\n",
    "    else: \n",
    "        return \"Increase\"\n",
    "\n",
    "incdec()\n",
    "print(\"Predictions for new data:\", predictions)\n",
    "print(f\"the stock price will {incdec()} by {price_change}\")"
   ]
  }
 ],
 "metadata": {
  "kernelspec": {
   "display_name": "Python 3",
   "language": "python",
   "name": "python3"
  },
  "language_info": {
   "codemirror_mode": {
    "name": "ipython",
    "version": 3
   },
   "file_extension": ".py",
   "mimetype": "text/x-python",
   "name": "python",
   "nbconvert_exporter": "python",
   "pygments_lexer": "ipython3",
   "version": "3.11.5"
  }
 },
 "nbformat": 4,
 "nbformat_minor": 2
}
