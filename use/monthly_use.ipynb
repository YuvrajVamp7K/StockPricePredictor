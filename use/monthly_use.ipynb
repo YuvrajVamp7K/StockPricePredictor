{
 "cells": [
  {
   "cell_type": "code",
   "execution_count": 2,
   "metadata": {},
   "outputs": [],
   "source": [
    "import joblib\n",
    "import pandas as pd\n",
    "\n",
    "monthly_regressor = joblib.load('D:\\coding\\python\\Projects\\Boards\\src\\monthly_price_change_predictor.pkl')\n",
    "predictor = joblib.load('D:\\coding\\python\\Projects\\Boards\\src\\monthly_classifier.pkl')"
   ]
  },
  {
   "cell_type": "code",
   "execution_count": 5,
   "metadata": {},
   "outputs": [],
   "source": [
    "monthly_data = pd.DataFrame({\n",
    "    'Close': [193800781],\n",
    "    'Volume': [10000000], #shares traded by 1000\n",
    "    'Open': [1000000],\n",
    "    'High': [19609],\n",
    "    'Low': [12650391]\n",
    "})\n"
   ]
  },
  {
   "cell_type": "code",
   "execution_count": 6,
   "metadata": {},
   "outputs": [
    {
     "name": "stdout",
     "output_type": "stream",
     "text": [
      "the stock price will increase by [119.11349363]\n"
     ]
    }
   ],
   "source": [
    "monthly_price_change = monthly_regressor.predict(monthly_data)\n",
    "\n",
    "def incdecm():\n",
    "    if monthly_price_change > 0: return \"increase\"\n",
    "    else: return \"decrease\"\n",
    "\n",
    "print(f\"the stock price will {incdecm()} by {monthly_price_change}\")"
   ]
  },
  {
   "cell_type": "code",
   "execution_count": 12,
   "metadata": {},
   "outputs": [
    {
     "name": "stdout",
     "output_type": "stream",
     "text": [
      "Predictions for new data: [1]\n"
     ]
    }
   ],
   "source": [
    "predictions = predictor.predict(monthly_data)\n",
    "print(\"Predictions for new data:\", predictions)"
   ]
  }
 ],
 "metadata": {
  "kernelspec": {
   "display_name": "Python 3",
   "language": "python",
   "name": "python3"
  },
  "language_info": {
   "codemirror_mode": {
    "name": "ipython",
    "version": 3
   },
   "file_extension": ".py",
   "mimetype": "text/x-python",
   "name": "python",
   "nbconvert_exporter": "python",
   "pygments_lexer": "ipython3",
   "version": "3.11.5"
  }
 },
 "nbformat": 4,
 "nbformat_minor": 2
}
