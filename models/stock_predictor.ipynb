{
 "cells": [
  {
   "cell_type": "code",
   "execution_count": 1,
   "metadata": {},
   "outputs": [],
   "source": [
    "import yfinance as yf\n",
    "import pandas as pd"
   ]
  },
  {
   "cell_type": "markdown",
   "metadata": {},
   "source": [
    "Data Preparation"
   ]
  },
  {
   "cell_type": "code",
   "execution_count": 2,
   "metadata": {},
   "outputs": [],
   "source": [
    "nifty50 = yf.Ticker('^NSEI')\n",
    "nifty50 = nifty50.history(start='2014-01-01', end='2024-10-15')\n",
    "#the volume here is (The actual volume / 1000)"
   ]
  },
  {
   "cell_type": "code",
   "execution_count": 3,
   "metadata": {},
   "outputs": [],
   "source": [
    "del nifty50[\"Dividends\"]\n",
    "del nifty50[\"Stock Splits\"]"
   ]
  },
  {
   "cell_type": "code",
   "execution_count": 4,
   "metadata": {},
   "outputs": [],
   "source": [
    "nifty50[\"Tommorow\"] = nifty50['Close'].shift(-1)"
   ]
  },
  {
   "cell_type": "code",
   "execution_count": 5,
   "metadata": {},
   "outputs": [],
   "source": [
    "nifty50['Target'] = (nifty50['Tommorow'] > nifty50['Close']).astype(int)"
   ]
  },
  {
   "cell_type": "code",
   "execution_count": 6,
   "metadata": {},
   "outputs": [],
   "source": [
    "nifty50 = nifty50.drop(nifty50.index[-1])"
   ]
  },
  {
   "cell_type": "markdown",
   "metadata": {},
   "source": [
    "Making The Price Predictor"
   ]
  },
  {
   "cell_type": "code",
   "execution_count": 7,
   "metadata": {},
   "outputs": [
    {
     "name": "stdout",
     "output_type": "stream",
     "text": [
      "Mean Squared Error: 261.6617914089675\n"
     ]
    }
   ],
   "source": [
    "from sklearn.ensemble import RandomForestRegressor\n",
    "nifty50[\"Price_Change\"] = nifty50[\"Tommorow\"] - nifty50[\"Close\"]\n",
    "train = nifty50.iloc[:-100]\n",
    "test = nifty50.iloc[-100:]\n",
    "Predictors = ['Close', 'Volume', 'Open', 'High', 'Low']\n",
    "\n",
    "regressor = RandomForestRegressor(n_estimators=100, min_samples_split=100, random_state=1)\n",
    "regressor.fit(train[Predictors], train[\"Price_Change\"])\n",
    "\n",
    "price_change_preds = pd.Series(regressor.predict(test[Predictors]))\n",
    "\n",
    "\n",
    "from sklearn.metrics import root_mean_squared_error\n",
    "mse = root_mean_squared_error(test[\"Price_Change\"], price_change_preds)\n",
    "print(f\"Mean Squared Error: {mse}\")\n"
   ]
  },
  {
   "cell_type": "markdown",
   "metadata": {},
   "source": [
    "Making The Classifier"
   ]
  },
  {
   "cell_type": "code",
   "execution_count": 8,
   "metadata": {},
   "outputs": [
    {
     "data": {
      "text/plain": [
       "1.0"
      ]
     },
     "execution_count": 8,
     "metadata": {},
     "output_type": "execute_result"
    }
   ],
   "source": [
    "from sklearn.ensemble import RandomForestClassifier\n",
    "model = RandomForestClassifier(n_estimators=100, min_samples_split=100, random_state=1)\n",
    "train = nifty50.iloc[:-100]\n",
    "test = nifty50.iloc[-100:]\n",
    "Predictors = ['Close', 'Volume', 'Open', 'High', 'Low']\n",
    "model.fit(train[Predictors], train[\"Target\"])\n",
    "\n",
    "preds = pd.Series(model.predict(test[Predictors]))\n",
    "\n",
    "from sklearn.metrics import precision_score\n",
    "precision_score(test['Target'], preds)"
   ]
  },
  {
   "cell_type": "markdown",
   "metadata": {},
   "source": [
    "Saving The Models Into Pickle Files"
   ]
  },
  {
   "cell_type": "code",
   "execution_count": 9,
   "metadata": {},
   "outputs": [
    {
     "data": {
      "text/plain": [
       "['price_change_predictor.pkl']"
      ]
     },
     "execution_count": 9,
     "metadata": {},
     "output_type": "execute_result"
    }
   ],
   "source": [
    "import joblib\n",
    "joblib.dump(model, 'stockpred.pkl')\n",
    "joblib.dump(regressor, 'price_change_predictor.pkl')\n"
   ]
  }
 ],
 "metadata": {
  "kernelspec": {
   "display_name": "Python 3",
   "language": "python",
   "name": "python3"
  },
  "language_info": {
   "codemirror_mode": {
    "name": "ipython",
    "version": 3
   },
   "file_extension": ".py",
   "mimetype": "text/x-python",
   "name": "python",
   "nbconvert_exporter": "python",
   "pygments_lexer": "ipython3",
   "version": "3.11.5"
  }
 },
 "nbformat": 4,
 "nbformat_minor": 2
}
