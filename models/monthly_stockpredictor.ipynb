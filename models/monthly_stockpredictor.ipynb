{
 "cells": [
  {
   "cell_type": "code",
   "execution_count": 1,
   "metadata": {},
   "outputs": [],
   "source": [
    "import yfinance as yf\n",
    "import pandas as pd\n",
    "from sklearn.ensemble import RandomForestRegressor\n",
    "from sklearn.metrics import root_mean_squared_error\n",
    "import joblib"
   ]
  },
  {
   "cell_type": "code",
   "execution_count": 2,
   "metadata": {},
   "outputs": [],
   "source": [
    "nifty50_monthly = yf.Ticker('^NSEI')\n",
    "nifty50_monthly = nifty50_monthly.history(start='2014-01-01', end='2024-1-1', interval='1mo')\n",
    "\n",
    "nifty50_monthly[\"Tommorow\"] = nifty50_monthly['Close'].shift(-1)\n",
    "nifty50_monthly[\"Monthly_Price_Change\"] = nifty50_monthly[\"Tommorow\"] - nifty50_monthly[\"Close\"]\n",
    "nifty50_monthly['Target'] = (nifty50_monthly['Tommorow'] > nifty50_monthly['Close']).astype(int)\n",
    "\n",
    "nifty50_monthly = nifty50_monthly.dropna()\n",
    "del nifty50_monthly[\"Dividends\"]\n",
    "del nifty50_monthly[\"Stock Splits\"]\n",
    "train_month = nifty50_monthly.iloc[:-12]\n",
    "test_month = nifty50_monthly.iloc[-12:] "
   ]
  },
  {
   "cell_type": "code",
   "execution_count": 61,
   "metadata": {},
   "outputs": [
    {
     "name": "stdout",
     "output_type": "stream",
     "text": [
      "Mean Squared Error: 675.3893401004659\n"
     ]
    }
   ],
   "source": [
    "Predictors_month = ['Close', 'Volume', 'Open', 'High', 'Low']\n",
    "regressor_month =  RandomForestRegressor(min_samples_split= 78, n_estimators= 100 )\n",
    "regressor_month.fit(train_month[Predictors_month], train_month[\"Monthly_Price_Change\"])\n",
    "\n",
    "monthly_price_change_preds = regressor_month.predict(test_month[Predictors_month])\n",
    "\n",
    "rmse_month = root_mean_squared_error(test_month[\"Monthly_Price_Change\"], monthly_price_change_preds)\n",
    "print(f\"Mean Squared Error: {rmse_month}\")"
   ]
  },
  {
   "cell_type": "code",
   "execution_count": 62,
   "metadata": {},
   "outputs": [
    {
     "data": {
      "text/plain": [
       "['monthly_price_change_predictor.pkl']"
      ]
     },
     "execution_count": 62,
     "metadata": {},
     "output_type": "execute_result"
    }
   ],
   "source": [
    "joblib.dump(regressor_month, 'monthly_price_change_predictor.pkl')"
   ]
  },
  {
   "cell_type": "code",
   "execution_count": 4,
   "metadata": {},
   "outputs": [
    {
     "data": {
      "text/html": [
       "<div>\n",
       "<style scoped>\n",
       "    .dataframe tbody tr th:only-of-type {\n",
       "        vertical-align: middle;\n",
       "    }\n",
       "\n",
       "    .dataframe tbody tr th {\n",
       "        vertical-align: top;\n",
       "    }\n",
       "\n",
       "    .dataframe thead th {\n",
       "        text-align: right;\n",
       "    }\n",
       "</style>\n",
       "<table border=\"1\" class=\"dataframe\">\n",
       "  <thead>\n",
       "    <tr style=\"text-align: right;\">\n",
       "      <th></th>\n",
       "      <th>Open</th>\n",
       "      <th>High</th>\n",
       "      <th>Low</th>\n",
       "      <th>Close</th>\n",
       "      <th>Volume</th>\n",
       "      <th>Tommorow</th>\n",
       "      <th>Monthly_Price_Change</th>\n",
       "      <th>Target</th>\n",
       "    </tr>\n",
       "    <tr>\n",
       "      <th>Date</th>\n",
       "      <th></th>\n",
       "      <th></th>\n",
       "      <th></th>\n",
       "      <th></th>\n",
       "      <th></th>\n",
       "      <th></th>\n",
       "      <th></th>\n",
       "      <th></th>\n",
       "    </tr>\n",
       "  </thead>\n",
       "  <tbody>\n",
       "    <tr>\n",
       "      <th>2014-01-01 00:00:00+05:30</th>\n",
       "      <td>6301.250000</td>\n",
       "      <td>6358.299805</td>\n",
       "      <td>6027.250000</td>\n",
       "      <td>6089.500000</td>\n",
       "      <td>3280800</td>\n",
       "      <td>6276.950195</td>\n",
       "      <td>187.450195</td>\n",
       "      <td>1</td>\n",
       "    </tr>\n",
       "    <tr>\n",
       "      <th>2014-02-01 00:00:00+05:30</th>\n",
       "      <td>6058.799805</td>\n",
       "      <td>6282.700195</td>\n",
       "      <td>5933.299805</td>\n",
       "      <td>6276.950195</td>\n",
       "      <td>2688200</td>\n",
       "      <td>6704.200195</td>\n",
       "      <td>427.250000</td>\n",
       "      <td>1</td>\n",
       "    </tr>\n",
       "    <tr>\n",
       "      <th>2014-03-01 00:00:00+05:30</th>\n",
       "      <td>6264.350098</td>\n",
       "      <td>6730.049805</td>\n",
       "      <td>6212.250000</td>\n",
       "      <td>6704.200195</td>\n",
       "      <td>3853200</td>\n",
       "      <td>6696.399902</td>\n",
       "      <td>-7.800293</td>\n",
       "      <td>0</td>\n",
       "    </tr>\n",
       "    <tr>\n",
       "      <th>2014-04-01 00:00:00+05:30</th>\n",
       "      <td>6729.500000</td>\n",
       "      <td>6869.850098</td>\n",
       "      <td>6650.399902</td>\n",
       "      <td>6696.399902</td>\n",
       "      <td>2672300</td>\n",
       "      <td>7229.950195</td>\n",
       "      <td>533.550293</td>\n",
       "      <td>1</td>\n",
       "    </tr>\n",
       "    <tr>\n",
       "      <th>2014-05-01 00:00:00+05:30</th>\n",
       "      <td>6709.950195</td>\n",
       "      <td>7563.500000</td>\n",
       "      <td>6638.549805</td>\n",
       "      <td>7229.950195</td>\n",
       "      <td>4282600</td>\n",
       "      <td>7611.350098</td>\n",
       "      <td>381.399902</td>\n",
       "      <td>1</td>\n",
       "    </tr>\n",
       "    <tr>\n",
       "      <th>...</th>\n",
       "      <td>...</td>\n",
       "      <td>...</td>\n",
       "      <td>...</td>\n",
       "      <td>...</td>\n",
       "      <td>...</td>\n",
       "      <td>...</td>\n",
       "      <td>...</td>\n",
       "      <td>...</td>\n",
       "    </tr>\n",
       "    <tr>\n",
       "      <th>2023-07-01 00:00:00+05:30</th>\n",
       "      <td>19246.500000</td>\n",
       "      <td>19991.849609</td>\n",
       "      <td>19234.400391</td>\n",
       "      <td>19753.800781</td>\n",
       "      <td>5802500</td>\n",
       "      <td>19253.800781</td>\n",
       "      <td>-500.000000</td>\n",
       "      <td>0</td>\n",
       "    </tr>\n",
       "    <tr>\n",
       "      <th>2023-08-01 00:00:00+05:30</th>\n",
       "      <td>19784.000000</td>\n",
       "      <td>19795.599609</td>\n",
       "      <td>19223.650391</td>\n",
       "      <td>19253.800781</td>\n",
       "      <td>6027500</td>\n",
       "      <td>19638.300781</td>\n",
       "      <td>384.500000</td>\n",
       "      <td>1</td>\n",
       "    </tr>\n",
       "    <tr>\n",
       "      <th>2023-09-01 00:00:00+05:30</th>\n",
       "      <td>19258.150391</td>\n",
       "      <td>20222.449219</td>\n",
       "      <td>19255.699219</td>\n",
       "      <td>19638.300781</td>\n",
       "      <td>5666500</td>\n",
       "      <td>19079.599609</td>\n",
       "      <td>-558.701172</td>\n",
       "      <td>0</td>\n",
       "    </tr>\n",
       "    <tr>\n",
       "      <th>2023-10-01 00:00:00+05:30</th>\n",
       "      <td>19622.400391</td>\n",
       "      <td>19849.750000</td>\n",
       "      <td>18837.849609</td>\n",
       "      <td>19079.599609</td>\n",
       "      <td>4248400</td>\n",
       "      <td>20133.150391</td>\n",
       "      <td>1053.550781</td>\n",
       "      <td>1</td>\n",
       "    </tr>\n",
       "    <tr>\n",
       "      <th>2023-11-01 00:00:00+05:30</th>\n",
       "      <td>19064.050781</td>\n",
       "      <td>20158.699219</td>\n",
       "      <td>18973.699219</td>\n",
       "      <td>20133.150391</td>\n",
       "      <td>4386100</td>\n",
       "      <td>21731.400391</td>\n",
       "      <td>1598.250000</td>\n",
       "      <td>1</td>\n",
       "    </tr>\n",
       "  </tbody>\n",
       "</table>\n",
       "<p>119 rows × 8 columns</p>\n",
       "</div>"
      ],
      "text/plain": [
       "                                   Open          High           Low  \\\n",
       "Date                                                                  \n",
       "2014-01-01 00:00:00+05:30   6301.250000   6358.299805   6027.250000   \n",
       "2014-02-01 00:00:00+05:30   6058.799805   6282.700195   5933.299805   \n",
       "2014-03-01 00:00:00+05:30   6264.350098   6730.049805   6212.250000   \n",
       "2014-04-01 00:00:00+05:30   6729.500000   6869.850098   6650.399902   \n",
       "2014-05-01 00:00:00+05:30   6709.950195   7563.500000   6638.549805   \n",
       "...                                 ...           ...           ...   \n",
       "2023-07-01 00:00:00+05:30  19246.500000  19991.849609  19234.400391   \n",
       "2023-08-01 00:00:00+05:30  19784.000000  19795.599609  19223.650391   \n",
       "2023-09-01 00:00:00+05:30  19258.150391  20222.449219  19255.699219   \n",
       "2023-10-01 00:00:00+05:30  19622.400391  19849.750000  18837.849609   \n",
       "2023-11-01 00:00:00+05:30  19064.050781  20158.699219  18973.699219   \n",
       "\n",
       "                                  Close   Volume      Tommorow  \\\n",
       "Date                                                             \n",
       "2014-01-01 00:00:00+05:30   6089.500000  3280800   6276.950195   \n",
       "2014-02-01 00:00:00+05:30   6276.950195  2688200   6704.200195   \n",
       "2014-03-01 00:00:00+05:30   6704.200195  3853200   6696.399902   \n",
       "2014-04-01 00:00:00+05:30   6696.399902  2672300   7229.950195   \n",
       "2014-05-01 00:00:00+05:30   7229.950195  4282600   7611.350098   \n",
       "...                                 ...      ...           ...   \n",
       "2023-07-01 00:00:00+05:30  19753.800781  5802500  19253.800781   \n",
       "2023-08-01 00:00:00+05:30  19253.800781  6027500  19638.300781   \n",
       "2023-09-01 00:00:00+05:30  19638.300781  5666500  19079.599609   \n",
       "2023-10-01 00:00:00+05:30  19079.599609  4248400  20133.150391   \n",
       "2023-11-01 00:00:00+05:30  20133.150391  4386100  21731.400391   \n",
       "\n",
       "                           Monthly_Price_Change  Target  \n",
       "Date                                                     \n",
       "2014-01-01 00:00:00+05:30            187.450195       1  \n",
       "2014-02-01 00:00:00+05:30            427.250000       1  \n",
       "2014-03-01 00:00:00+05:30             -7.800293       0  \n",
       "2014-04-01 00:00:00+05:30            533.550293       1  \n",
       "2014-05-01 00:00:00+05:30            381.399902       1  \n",
       "...                                         ...     ...  \n",
       "2023-07-01 00:00:00+05:30           -500.000000       0  \n",
       "2023-08-01 00:00:00+05:30            384.500000       1  \n",
       "2023-09-01 00:00:00+05:30           -558.701172       0  \n",
       "2023-10-01 00:00:00+05:30           1053.550781       1  \n",
       "2023-11-01 00:00:00+05:30           1598.250000       1  \n",
       "\n",
       "[119 rows x 8 columns]"
      ]
     },
     "execution_count": 4,
     "metadata": {},
     "output_type": "execute_result"
    }
   ],
   "source": [
    "nifty50_monthly"
   ]
  },
  {
   "cell_type": "markdown",
   "metadata": {},
   "source": [
    "Classifier"
   ]
  },
  {
   "cell_type": "code",
   "execution_count": 23,
   "metadata": {},
   "outputs": [
    {
     "data": {
      "text/plain": [
       "1.0"
      ]
     },
     "execution_count": 23,
     "metadata": {},
     "output_type": "execute_result"
    }
   ],
   "source": [
    "from sklearn.ensemble import RandomForestClassifier\n",
    "model = RandomForestClassifier(n_estimators=1000, min_samples_split=67, random_state=1)\n",
    "\n",
    "Predictors = ['Close', 'Volume', 'Open', 'High', 'Low']\n",
    "model.fit(train_month[Predictors], train_month[\"Target\"])\n",
    "\n",
    "preds = pd.Series(model.predict(test_month[Predictors]))\n",
    "\n",
    "from sklearn.metrics import precision_score\n",
    "precision_score(test_month['Target'], preds)"
   ]
  },
  {
   "cell_type": "code",
   "execution_count": 24,
   "metadata": {},
   "outputs": [
    {
     "data": {
      "text/plain": [
       "['monthly_classifier.pkl']"
      ]
     },
     "execution_count": 24,
     "metadata": {},
     "output_type": "execute_result"
    }
   ],
   "source": [
    "joblib.dump(model, 'monthly_classifier.pkl')"
   ]
  }
 ],
 "metadata": {
  "kernelspec": {
   "display_name": "Python 3",
   "language": "python",
   "name": "python3"
  },
  "language_info": {
   "codemirror_mode": {
    "name": "ipython",
    "version": 3
   },
   "file_extension": ".py",
   "mimetype": "text/x-python",
   "name": "python",
   "nbconvert_exporter": "python",
   "pygments_lexer": "ipython3",
   "version": "3.11.5"
  }
 },
 "nbformat": 4,
 "nbformat_minor": 2
}
